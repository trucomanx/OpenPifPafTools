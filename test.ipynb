{
 "cells": [
  {
   "cell_type": "code",
   "execution_count": 1,
   "id": "996b37ad-495e-4c94-8978-bcda377d3a58",
   "metadata": {},
   "outputs": [],
   "source": [
    "import sys\n",
    "sys.path.append('library');"
   ]
  },
  {
   "cell_type": "code",
   "execution_count": 2,
   "id": "02c118d4-2eac-492a-a1f5-125384c1b6d3",
   "metadata": {},
   "outputs": [],
   "source": [
    "import openpifpaflib as opp\n",
    "annotation, pil_im=opp.get_openpifpaf_annotation_from_imgpath('test.jpg')\n"
   ]
  },
  {
   "cell_type": "code",
   "execution_count": 3,
   "id": "dc286fcd-f0a9-4c8f-add5-46cab1e95e30",
   "metadata": {},
   "outputs": [
    {
     "name": "stdout",
     "output_type": "stream",
     "text": [
      "<PIL.Image.Image image mode=RGB size=800x669 at 0x7FBA431FABE0>\n",
      " \n",
      "True\n",
      "between_eyes_distance: 26.48856415293038\n",
      "mean_nose_eye_distance 18.161658460864146\n",
      " \n",
      "True\n",
      "between_eyes_distance: 9.931497206444789\n",
      "mean_nose_eye_distance 15.375419873804141\n",
      " \n",
      "True\n",
      "between_eyes_distance: 16.10642364550137\n",
      "mean_nose_eye_distance 15.239223067753883\n"
     ]
    }
   ],
   "source": [
    "print(pil_im)\n",
    "\n",
    "\n",
    "for annot in annotation: \n",
    "    print(\" \")\n",
    "    annot.suppress_score_index=True;\n",
    "    print(annot.suppress_score_index)\n",
    "    #print(annot.skeleton)\n",
    "    #print(annot.keypoints)\n",
    "    print(\"between_eyes_distance:\",opp.get_between_eyes_distance(annot.data))\n",
    "    print(\"mean_nose_eye_distance\",opp.get_mean_nose_eye_distance(annot.data))\n"
   ]
  },
  {
   "cell_type": "code",
   "execution_count": 4,
   "id": "b8185891-b3ff-45c4-baa5-8da027d1f99d",
   "metadata": {},
   "outputs": [
    {
     "name": "stdout",
     "output_type": "stream",
     "text": [
      "(256, 214)\n"
     ]
    }
   ],
   "source": [
    "annotation,pil_im=opp.resize_openpifpaf_annotation_and_pil_img(annotation,pil_im, width=256);\n",
    "print(pil_im.size)"
   ]
  },
  {
   "cell_type": "code",
   "execution_count": 5,
   "id": "0c39ab49-566e-4878-8cdf-46190c61d9b0",
   "metadata": {},
   "outputs": [
    {
     "ename": "AssertionError",
     "evalue": "image_width",
     "output_type": "error",
     "traceback": [
      "\u001b[0;31m---------------------------------------------------------------------------\u001b[0m",
      "\u001b[0;31mAssertionError\u001b[0m                            Traceback (most recent call last)",
      "\u001b[0;32m<ipython-input-5-83f37ec24ec7>\u001b[0m in \u001b[0;36m<module>\u001b[0;34m\u001b[0m\n\u001b[0;32m----> 1\u001b[0;31m \u001b[0mopp\u001b[0m\u001b[0;34m.\u001b[0m\u001b[0msave_openpifpaf_annotation_in_img\u001b[0m\u001b[0;34m(\u001b[0m\u001b[0mpil_im\u001b[0m\u001b[0;34m,\u001b[0m\u001b[0mannotation\u001b[0m\u001b[0;34m,\u001b[0m\u001b[0;34m\"output_file.png\"\u001b[0m\u001b[0;34m)\u001b[0m\u001b[0;34m\u001b[0m\u001b[0;34m\u001b[0m\u001b[0m\n\u001b[0m",
      "\u001b[0;32m~/Proyectos/PÓS-GRADUAÇÂO/TESIS-DOUTORADO-2/PESQUISA/software/OpenpifpafTools/library/openpifpaflib.py\u001b[0m in \u001b[0;36msave_openpifpaf_annotation_in_img\u001b[0;34m(pil_im, annotation, output_file, width)\u001b[0m\n\u001b[1;32m     87\u001b[0m     \u001b[0mim\u001b[0m\u001b[0;34m=\u001b[0m\u001b[0mnp\u001b[0m\u001b[0;34m.\u001b[0m\u001b[0masarray\u001b[0m\u001b[0;34m(\u001b[0m\u001b[0mpil_im\u001b[0m\u001b[0;34m)\u001b[0m\u001b[0;34m;\u001b[0m\u001b[0;34m\u001b[0m\u001b[0;34m\u001b[0m\u001b[0m\n\u001b[1;32m     88\u001b[0m \u001b[0;34m\u001b[0m\u001b[0m\n\u001b[0;32m---> 89\u001b[0;31m     \u001b[0mkeypoint_painter\u001b[0m \u001b[0;34m=\u001b[0m \u001b[0mopenpifpaf\u001b[0m\u001b[0;34m.\u001b[0m\u001b[0mshow\u001b[0m\u001b[0;34m.\u001b[0m\u001b[0mKeypointPainter\u001b[0m\u001b[0;34m(\u001b[0m\u001b[0mimage_width\u001b[0m \u001b[0;34m=\u001b[0m\u001b[0;36m100\u001b[0m\u001b[0;34m)\u001b[0m\u001b[0;34m\u001b[0m\u001b[0;34m\u001b[0m\u001b[0m\n\u001b[0m\u001b[1;32m     90\u001b[0m     \u001b[0mannotation_painter\u001b[0m \u001b[0;34m=\u001b[0m \u001b[0mopenpifpaf\u001b[0m\u001b[0;34m.\u001b[0m\u001b[0mshow\u001b[0m\u001b[0;34m.\u001b[0m\u001b[0mAnnotationPainter\u001b[0m\u001b[0;34m(\u001b[0m\u001b[0mpainters\u001b[0m\u001b[0;34m=\u001b[0m\u001b[0;34m{\u001b[0m\u001b[0;34m\"Annotation\"\u001b[0m\u001b[0;34m:\u001b[0m \u001b[0mkeypoint_painter\u001b[0m\u001b[0;34m}\u001b[0m\u001b[0;34m)\u001b[0m\u001b[0;34m\u001b[0m\u001b[0;34m\u001b[0m\u001b[0m\n\u001b[1;32m     91\u001b[0m     \u001b[0;31m#annotation_painter = openpifpaf.show.AnnotationPainter()\u001b[0m\u001b[0;34m\u001b[0m\u001b[0;34m\u001b[0m\u001b[0;34m\u001b[0m\u001b[0m\n",
      "\u001b[0;32m~/.local/lib/python3.8/site-packages/openpifpaf/show/painters.py\u001b[0m in \u001b[0;36m__init__\u001b[0;34m(self, xy_scale, highlight, highlight_invisible, **kwargs)\u001b[0m\n\u001b[1;32m    159\u001b[0m                  \u001b[0mhighlight_invisible\u001b[0m\u001b[0;34m=\u001b[0m\u001b[0;32mFalse\u001b[0m\u001b[0;34m,\u001b[0m\u001b[0;34m\u001b[0m\u001b[0;34m\u001b[0m\u001b[0m\n\u001b[1;32m    160\u001b[0m                  **kwargs):\n\u001b[0;32m--> 161\u001b[0;31m         \u001b[0msuper\u001b[0m\u001b[0;34m(\u001b[0m\u001b[0;34m)\u001b[0m\u001b[0;34m.\u001b[0m\u001b[0m__init__\u001b[0m\u001b[0;34m(\u001b[0m\u001b[0;34m**\u001b[0m\u001b[0mkwargs\u001b[0m\u001b[0;34m)\u001b[0m\u001b[0;34m\u001b[0m\u001b[0;34m\u001b[0m\u001b[0m\n\u001b[0m\u001b[1;32m    162\u001b[0m \u001b[0;34m\u001b[0m\u001b[0m\n\u001b[1;32m    163\u001b[0m         \u001b[0mself\u001b[0m\u001b[0;34m.\u001b[0m\u001b[0mxy_scale\u001b[0m \u001b[0;34m=\u001b[0m \u001b[0mxy_scale\u001b[0m\u001b[0;34m\u001b[0m\u001b[0;34m\u001b[0m\u001b[0m\n",
      "\u001b[0;32m~/.local/lib/python3.8/site-packages/openpifpaf/configurable.py\u001b[0m in \u001b[0;36m__init__\u001b[0;34m(self, **kwargs)\u001b[0m\n\u001b[1;32m     39\u001b[0m         \u001b[0;31m# use kwargs to set instance attributes to overwrite class attributes\u001b[0m\u001b[0;34m\u001b[0m\u001b[0;34m\u001b[0m\u001b[0;34m\u001b[0m\u001b[0m\n\u001b[1;32m     40\u001b[0m         \u001b[0;32mfor\u001b[0m \u001b[0mkey\u001b[0m\u001b[0;34m,\u001b[0m \u001b[0mvalue\u001b[0m \u001b[0;32min\u001b[0m \u001b[0mkwargs\u001b[0m\u001b[0;34m.\u001b[0m\u001b[0mitems\u001b[0m\u001b[0;34m(\u001b[0m\u001b[0;34m)\u001b[0m\u001b[0;34m:\u001b[0m\u001b[0;34m\u001b[0m\u001b[0;34m\u001b[0m\u001b[0m\n\u001b[0;32m---> 41\u001b[0;31m             \u001b[0;32massert\u001b[0m \u001b[0mhasattr\u001b[0m\u001b[0;34m(\u001b[0m\u001b[0mself\u001b[0m\u001b[0;34m,\u001b[0m \u001b[0mkey\u001b[0m\u001b[0;34m)\u001b[0m\u001b[0;34m,\u001b[0m \u001b[0mkey\u001b[0m\u001b[0;34m\u001b[0m\u001b[0;34m\u001b[0m\u001b[0m\n\u001b[0m\u001b[1;32m     42\u001b[0m             \u001b[0msetattr\u001b[0m\u001b[0;34m(\u001b[0m\u001b[0mself\u001b[0m\u001b[0;34m,\u001b[0m \u001b[0mkey\u001b[0m\u001b[0;34m,\u001b[0m \u001b[0mvalue\u001b[0m\u001b[0;34m)\u001b[0m\u001b[0;34m\u001b[0m\u001b[0;34m\u001b[0m\u001b[0m\n\u001b[1;32m     43\u001b[0m \u001b[0;34m\u001b[0m\u001b[0m\n",
      "\u001b[0;31mAssertionError\u001b[0m: image_width"
     ]
    }
   ],
   "source": [
    "opp.save_openpifpaf_annotation_in_img(pil_im,annotation,\"output_file.png\")"
   ]
  },
  {
   "cell_type": "code",
   "execution_count": null,
   "id": "292f635a-7d8e-418e-8c1c-900211ddce39",
   "metadata": {},
   "outputs": [],
   "source": []
  }
 ],
 "metadata": {
  "kernelspec": {
   "display_name": "Python 3",
   "language": "python",
   "name": "python3"
  },
  "language_info": {
   "codemirror_mode": {
    "name": "ipython",
    "version": 3
   },
   "file_extension": ".py",
   "mimetype": "text/x-python",
   "name": "python",
   "nbconvert_exporter": "python",
   "pygments_lexer": "ipython3",
   "version": "3.8.10"
  }
 },
 "nbformat": 4,
 "nbformat_minor": 5
}
