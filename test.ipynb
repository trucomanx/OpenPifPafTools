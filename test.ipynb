{
 "cells": [
  {
   "cell_type": "code",
   "execution_count": 1,
   "id": "996b37ad-495e-4c94-8978-bcda377d3a58",
   "metadata": {},
   "outputs": [],
   "source": [
    "import sys\n",
    "sys.path.append('library');"
   ]
  },
  {
   "cell_type": "code",
   "execution_count": 2,
   "id": "02c118d4-2eac-492a-a1f5-125384c1b6d3",
   "metadata": {},
   "outputs": [],
   "source": [
    "import openpifpaflib as opp\n",
    "annotation=opp.get_openpifpaf_annotation_from_imgpath('test.jpg')"
   ]
  },
  {
   "cell_type": "code",
   "execution_count": 3,
   "id": "dc286fcd-f0a9-4c8f-add5-46cab1e95e30",
   "metadata": {},
   "outputs": [
    {
     "name": "stdout",
     "output_type": "stream",
     "text": [
      " \n",
      "[(16, 14), (14, 12), (17, 15), (15, 13), (12, 13), (6, 12), (7, 13), (6, 7), (6, 8), (7, 9), (8, 10), (9, 11), (2, 3), (1, 2), (1, 3), (2, 4), (3, 5), (4, 6), (5, 7)]\n",
      "['nose', 'left_eye', 'right_eye', 'left_ear', 'right_ear', 'left_shoulder', 'right_shoulder', 'left_elbow', 'right_elbow', 'left_wrist', 'right_wrist', 'left_hip', 'right_hip', 'left_knee', 'right_knee', 'left_ankle', 'right_ankle']\n",
      "[[572.905      247.44102      0.99286616]\n",
      " [589.1069     236.56223      0.9911084 ]\n",
      " [562.737      234.05746      0.99884695]\n",
      " [611.6735     249.4514       0.9880815 ]\n",
      " [547.6198     239.06996      0.9400124 ]\n",
      " [633.2067     330.4834       0.9780087 ]\n",
      " [494.24448    296.33813      0.966379  ]\n",
      " [662.26666    418.51013      0.9368922 ]\n",
      " [414.7297     367.78192      0.9615192 ]\n",
      " [622.7409     388.94693      0.88677824]\n",
      " [475.09772    366.88446      0.9550529 ]\n",
      " [576.0932     444.1759       0.9018156 ]\n",
      " [473.87567    416.88968      0.8535172 ]\n",
      " [  0.          -2.           0.        ]\n",
      " [  0.          -2.           0.        ]\n",
      " [  0.          -2.           0.        ]\n",
      " [  0.          -2.           0.        ]]\n",
      " \n",
      "[(16, 14), (14, 12), (17, 15), (15, 13), (12, 13), (6, 12), (7, 13), (6, 7), (6, 8), (7, 9), (8, 10), (9, 11), (2, 3), (1, 2), (1, 3), (2, 4), (3, 5), (4, 6), (5, 7)]\n",
      "['nose', 'left_eye', 'right_eye', 'left_ear', 'right_ear', 'left_shoulder', 'right_shoulder', 'left_elbow', 'right_elbow', 'left_wrist', 'right_wrist', 'left_hip', 'right_hip', 'left_knee', 'right_knee', 'left_ankle', 'right_ankle']\n",
      "[[270.39948    159.39688      0.99781847]\n",
      " [269.8798     145.47679      0.58159107]\n",
      " [259.97437    146.19594      0.9634482 ]\n",
      " [  0.          -2.           0.        ]\n",
      " [221.84087    144.6011       0.94913274]\n",
      " [219.31514    214.82593      0.88113034]\n",
      " [148.04678    226.696        0.9379234 ]\n",
      " [  0.          -2.           0.        ]\n",
      " [100.46222    349.4672       0.9496098 ]\n",
      " [  0.          -2.           0.        ]\n",
      " [118.69138    453.63397      0.8283809 ]\n",
      " [172.25034    420.31357      0.76666003]\n",
      " [125.73841    426.7889       0.87935925]\n",
      " [  0.          -2.           0.        ]\n",
      " [  0.          -2.           0.        ]\n",
      " [  0.          -2.           0.        ]\n",
      " [  0.          -2.           0.        ]]\n",
      " \n",
      "[(16, 14), (14, 12), (17, 15), (15, 13), (12, 13), (6, 12), (7, 13), (6, 7), (6, 8), (7, 9), (8, 10), (9, 11), (2, 3), (1, 2), (1, 3), (2, 4), (3, 5), (4, 6), (5, 7)]\n",
      "['nose', 'left_eye', 'right_eye', 'left_ear', 'right_ear', 'left_shoulder', 'right_shoulder', 'left_elbow', 'right_elbow', 'left_wrist', 'right_wrist', 'left_hip', 'right_hip', 'left_knee', 'right_knee', 'left_ankle', 'right_ankle']\n",
      "[[383.92435    189.90648      0.9983343 ]\n",
      " [388.71048    177.41986      0.93651104]\n",
      " [372.60767    177.07887      0.9808161 ]\n",
      " [  0.          -2.           0.        ]\n",
      " [337.50568    177.82005      0.975605  ]\n",
      " [385.94846    233.7501       0.9611159 ]\n",
      " [281.8137     246.18822      0.97013384]\n",
      " [  0.          -2.           0.        ]\n",
      " [268.04935    375.68237      0.8150219 ]\n",
      " [  0.          -2.           0.        ]\n",
      " [  0.          -2.           0.        ]\n",
      " [377.21802    409.92838      0.724295  ]\n",
      " [311.14255    418.29443      0.77915925]\n",
      " [  0.          -2.           0.        ]\n",
      " [  0.          -2.           0.        ]\n",
      " [  0.          -2.           0.        ]\n",
      " [  0.          -2.           0.        ]]\n"
     ]
    }
   ],
   "source": [
    "for annot in annotation: \n",
    "    print(\" \")\n",
    "    print(annot.skeleton)\n",
    "    print(annot.keypoints)\n",
    "    print(annot.data)"
   ]
  },
  {
   "cell_type": "code",
   "execution_count": null,
   "id": "b8185891-b3ff-45c4-baa5-8da027d1f99d",
   "metadata": {},
   "outputs": [],
   "source": []
  }
 ],
 "metadata": {
  "kernelspec": {
   "display_name": "Python 3",
   "language": "python",
   "name": "python3"
  },
  "language_info": {
   "codemirror_mode": {
    "name": "ipython",
    "version": 3
   },
   "file_extension": ".py",
   "mimetype": "text/x-python",
   "name": "python",
   "nbconvert_exporter": "python",
   "pygments_lexer": "ipython3",
   "version": "3.8.10"
  }
 },
 "nbformat": 4,
 "nbformat_minor": 5
}
