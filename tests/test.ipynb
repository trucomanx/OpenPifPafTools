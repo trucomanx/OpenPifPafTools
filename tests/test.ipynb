{
 "cells": [
  {
   "cell_type": "code",
   "execution_count": 1,
   "id": "996b37ad-495e-4c94-8978-bcda377d3a58",
   "metadata": {},
   "outputs": [],
   "source": [
    "import sys\n",
    "sys.path.append('../src');"
   ]
  },
  {
   "cell_type": "code",
   "execution_count": 2,
   "id": "02c118d4-2eac-492a-a1f5-125384c1b6d3",
   "metadata": {},
   "outputs": [],
   "source": [
    "import OpenPifPafTools.OpenPifPafAnnotations as opp\n",
    "import OpenPifPafTools.OpenPifPafGetData as oppgd\n",
    "\n",
    "annotation, pil_im=opp.get_openpifpaf_annotation_from_imgpath('test.jpg')\n"
   ]
  },
  {
   "cell_type": "code",
   "execution_count": 3,
   "id": "dc286fcd-f0a9-4c8f-add5-46cab1e95e30",
   "metadata": {},
   "outputs": [
    {
     "name": "stdout",
     "output_type": "stream",
     "text": [
      "<class 'PIL.Image.Image'>\n",
      "<class 'list'>\n",
      "<class 'openpifpaf.annotation.Annotation'>\n",
      "<class 'numpy.ndarray'>\n",
      " \n",
      "annot.suppress_score_index: True\n",
      "annot.skeleton: [(16, 14), (14, 12), (17, 15), (15, 13), (12, 13), (6, 12), (7, 13), (6, 7), (6, 8), (7, 9), (8, 10), (9, 11), (2, 3), (1, 2), (1, 3), (2, 4), (3, 5), (4, 6), (5, 7)]\n",
      "annot.keypoints: ['nose', 'left_eye', 'right_eye', 'left_ear', 'right_ear', 'left_shoulder', 'right_shoulder', 'left_elbow', 'right_elbow', 'left_wrist', 'right_wrist', 'left_hip', 'right_hip', 'left_knee', 'right_knee', 'left_ankle', 'right_ankle']\n",
      "len 17\n",
      "between_eyes_distance: 26.48856415293038\n",
      "mean_nose_eye_distance 18.161658460864146\n",
      " \n",
      "annot.suppress_score_index: True\n",
      "annot.skeleton: [(16, 14), (14, 12), (17, 15), (15, 13), (12, 13), (6, 12), (7, 13), (6, 7), (6, 8), (7, 9), (8, 10), (9, 11), (2, 3), (1, 2), (1, 3), (2, 4), (3, 5), (4, 6), (5, 7)]\n",
      "annot.keypoints: ['nose', 'left_eye', 'right_eye', 'left_ear', 'right_ear', 'left_shoulder', 'right_shoulder', 'left_elbow', 'right_elbow', 'left_wrist', 'right_wrist', 'left_hip', 'right_hip', 'left_knee', 'right_knee', 'left_ankle', 'right_ankle']\n",
      "len 17\n",
      "between_eyes_distance: 9.931497206444789\n",
      "mean_nose_eye_distance 15.375419873804141\n",
      " \n",
      "annot.suppress_score_index: True\n",
      "annot.skeleton: [(16, 14), (14, 12), (17, 15), (15, 13), (12, 13), (6, 12), (7, 13), (6, 7), (6, 8), (7, 9), (8, 10), (9, 11), (2, 3), (1, 2), (1, 3), (2, 4), (3, 5), (4, 6), (5, 7)]\n",
      "annot.keypoints: ['nose', 'left_eye', 'right_eye', 'left_ear', 'right_ear', 'left_shoulder', 'right_shoulder', 'left_elbow', 'right_elbow', 'left_wrist', 'right_wrist', 'left_hip', 'right_hip', 'left_knee', 'right_knee', 'left_ankle', 'right_ankle']\n",
      "len 17\n",
      "between_eyes_distance: 16.10642364550137\n",
      "mean_nose_eye_distance 15.239223067753883\n"
     ]
    }
   ],
   "source": [
    "print(type(pil_im))\n",
    "print(type(annotation))\n",
    "print(type(annotation[0]))\n",
    "print(type(annotation[0].data))\n",
    "\n",
    "for annot in annotation: \n",
    "    print(\" \")\n",
    "    annot.suppress_score_index=True;\n",
    "    print(\"annot.suppress_score_index:\",annot.suppress_score_index)\n",
    "    print(\"annot.skeleton:\",annot.skeleton)\n",
    "    print(\"annot.keypoints:\",annot.keypoints)\n",
    "    print(\"len\",len(annot.keypoints))\n",
    "    print(\"between_eyes_distance:\",oppgd.get_between_eyes_distance(annot.data))\n",
    "    print(\"mean_nose_eye_distance\",oppgd.get_mean_nose_eye_distance(annot.data))\n",
    "    \n"
   ]
  },
  {
   "cell_type": "code",
   "execution_count": 4,
   "id": "eef430c0-cf75-4fdb-b7bf-2d7be489bd49",
   "metadata": {},
   "outputs": [],
   "source": [
    "import os\n",
    "outdir='output';\n",
    "if not os.path.exists(outdir):\n",
    "    os.makedirs(outdir)"
   ]
  },
  {
   "cell_type": "code",
   "execution_count": 5,
   "id": "292f635a-7d8e-418e-8c1c-900211ddce39",
   "metadata": {},
   "outputs": [],
   "source": [
    "\n",
    "n=0;\n",
    "for annot in annotation: \n",
    "    tupla=oppgd.get_face_bounding_rectangle(annot.data)\n",
    "    pil_im_crop = pil_im.crop(tupla);\n",
    "    fpath=os.path.join(outdir,\"output_file_face\"+str(n)+\".png\");\n",
    "    pil_im_crop.save(fpath);\n",
    "    \n",
    "    tupla=oppgd.get_body_bounding_rectangle(annot.data,factor=1.2);\n",
    "    pil_im_crop = pil_im.crop(tupla);\n",
    "    fpath=os.path.join(outdir,\"output_file_body\"+str(n)+\".png\");\n",
    "    pil_im_crop.save(fpath);\n",
    "    n=n+1;"
   ]
  },
  {
   "cell_type": "code",
   "execution_count": 6,
   "id": "b8185891-b3ff-45c4-baa5-8da027d1f99d",
   "metadata": {
    "tags": []
   },
   "outputs": [
    {
     "name": "stdout",
     "output_type": "stream",
     "text": [
      "(256, 214)\n"
     ]
    }
   ],
   "source": [
    "annotation,pil_im=opp.resize_openpifpaf_annotation_and_pil_img(annotation,pil_im, width=256);\n",
    "print(pil_im.size)"
   ]
  },
  {
   "cell_type": "code",
   "execution_count": 7,
   "id": "0c39ab49-566e-4878-8cdf-46190c61d9b0",
   "metadata": {},
   "outputs": [],
   "source": [
    "fpath=os.path.join(outdir,\"output_file.png\");\n",
    "\n",
    "opp.save_openpifpaf_annotation_in_img(pil_im,annotation,fpath)"
   ]
  }
 ],
 "metadata": {
  "kernelspec": {
   "display_name": "Python 3",
   "language": "python",
   "name": "python3"
  },
  "language_info": {
   "codemirror_mode": {
    "name": "ipython",
    "version": 3
   },
   "file_extension": ".py",
   "mimetype": "text/x-python",
   "name": "python",
   "nbconvert_exporter": "python",
   "pygments_lexer": "ipython3",
   "version": "3.8.10"
  }
 },
 "nbformat": 4,
 "nbformat_minor": 5
}
