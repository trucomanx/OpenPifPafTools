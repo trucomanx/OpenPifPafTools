{
 "cells": [
  {
   "cell_type": "code",
   "execution_count": 1,
   "id": "996b37ad-495e-4c94-8978-bcda377d3a58",
   "metadata": {},
   "outputs": [],
   "source": [
    "import sys\n",
    "sys.path.append('../src');\n",
    "\n",
    "filename='../dataset/filename463.jpg'\n",
    "#filename='../dataset/test.jpg'"
   ]
  },
  {
   "cell_type": "code",
   "execution_count": 2,
   "id": "02c118d4-2eac-492a-a1f5-125384c1b6d3",
   "metadata": {},
   "outputs": [],
   "source": [
    "import OpenPifPafTools.OpenPifPafAnnotations as opp\n",
    "import OpenPifPafTools.OpenPifPafGetData as oppgd\n",
    "\n",
    "annotation, pil_im=opp.get_openpifpaf_annotation_from_imgpath(filename)\n"
   ]
  },
  {
   "cell_type": "code",
   "execution_count": 3,
   "id": "dc286fcd-f0a9-4c8f-add5-46cab1e95e30",
   "metadata": {},
   "outputs": [
    {
     "name": "stdout",
     "output_type": "stream",
     "text": [
      "<class 'PIL.Image.Image'>\n",
      "<class 'list'>\n",
      "<class 'openpifpaf.annotation.Annotation'>\n",
      "<class 'numpy.ndarray'>\n",
      " \n",
      "annot.suppress_score_index: True\n",
      "annot.skeleton: [(16, 14), (14, 12), (17, 15), (15, 13), (12, 13), (6, 12), (7, 13), (6, 7), (6, 8), (7, 9), (8, 10), (9, 11), (2, 3), (1, 2), (1, 3), (2, 4), (3, 5), (4, 6), (5, 7)]\n",
      "annot.keypoints: ['nose', 'left_eye', 'right_eye', 'left_ear', 'right_ear', 'left_shoulder', 'right_shoulder', 'left_elbow', 'right_elbow', 'left_wrist', 'right_wrist', 'left_hip', 'right_hip', 'left_knee', 'right_knee', 'left_ankle', 'right_ankle']\n",
      "len 17\n",
      "between_eyes_distance: 12.428842332803821\n",
      "mean_nose_eye_distance 8.601226933980788\n",
      " \n",
      "annot.suppress_score_index: True\n",
      "annot.skeleton: [(16, 14), (14, 12), (17, 15), (15, 13), (12, 13), (6, 12), (7, 13), (6, 7), (6, 8), (7, 9), (8, 10), (9, 11), (2, 3), (1, 2), (1, 3), (2, 4), (3, 5), (4, 6), (5, 7)]\n",
      "annot.keypoints: ['nose', 'left_eye', 'right_eye', 'left_ear', 'right_ear', 'left_shoulder', 'right_shoulder', 'left_elbow', 'right_elbow', 'left_wrist', 'right_wrist', 'left_hip', 'right_hip', 'left_knee', 'right_knee', 'left_ankle', 'right_ankle']\n",
      "len 17\n",
      "between_eyes_distance: 11.295469593105002\n",
      "mean_nose_eye_distance 8.612990066950108\n"
     ]
    }
   ],
   "source": [
    "print(type(pil_im))\n",
    "print(type(annotation))\n",
    "print(type(annotation[0]))\n",
    "print(type(annotation[0].data))\n",
    "\n",
    "for annot in annotation: \n",
    "    print(\" \")\n",
    "    annot.suppress_score_index=True;\n",
    "    print(\"annot.suppress_score_index:\",annot.suppress_score_index)\n",
    "    print(\"annot.skeleton:\",annot.skeleton)\n",
    "    print(\"annot.keypoints:\",annot.keypoints)\n",
    "    print(\"len\",len(annot.keypoints))\n",
    "    print(\"between_eyes_distance:\",oppgd.get_between_eyes_distance(annot.data))\n",
    "    print(\"mean_nose_eye_distance\",oppgd.get_mean_nose_eye_distance(annot.data))\n",
    "    \n"
   ]
  },
  {
   "cell_type": "code",
   "execution_count": 4,
   "id": "eef430c0-cf75-4fdb-b7bf-2d7be489bd49",
   "metadata": {},
   "outputs": [],
   "source": [
    "import os\n",
    "outdir='output';\n",
    "if not os.path.exists(outdir):\n",
    "    os.makedirs(outdir)"
   ]
  },
  {
   "cell_type": "code",
   "execution_count": 5,
   "id": "292f635a-7d8e-418e-8c1c-900211ddce39",
   "metadata": {},
   "outputs": [
    {
     "name": "stdout",
     "output_type": "stream",
     "text": [
      "\n",
      "(106.42379306870602, 3.640866013268319, 147.21908107680179, 50.50874641348949)\n",
      "output/output_file_face0.png\n",
      "\n",
      "(87.50062047958374, 0.0, 160.80305883407593, 151.00046954154968)\n",
      "output/output_file_body0.png\n",
      "\n",
      "(143.29541164198054, 19.742274968901203, 193.9912933751093, 72.69241932125993)\n",
      "output/output_file_face1.png\n",
      "\n",
      "(136.15384218533308, 7.3703794624279055, 225.74036994347205, 147.3507249391996)\n",
      "output/output_file_body1.png\n"
     ]
    }
   ],
   "source": [
    "\n",
    "n=0;\n",
    "for annot in annotation: \n",
    "    print('')\n",
    "    tupla=oppgd.get_face_bounding_rectangle(annot.data)\n",
    "    pil_im_crop = pil_im.crop(tupla);\n",
    "    fpath=os.path.join(outdir,\"output_file_face\"+str(n)+\".png\");\n",
    "    pil_im_crop.save(fpath);\n",
    "    print(tupla)\n",
    "    print(fpath)\n",
    "    \n",
    "    print('')\n",
    "    tupla=oppgd.get_body_bounding_rectangle(annot.data,factor=1.2);\n",
    "    pil_im_crop = pil_im.crop(tupla);\n",
    "    fpath=os.path.join(outdir,\"output_file_body\"+str(n)+\".png\");\n",
    "    pil_im_crop.save(fpath);\n",
    "    print(tupla)\n",
    "    print(fpath)\n",
    "\n",
    "    \n",
    "    n=n+1;"
   ]
  },
  {
   "cell_type": "code",
   "execution_count": 6,
   "id": "b8185891-b3ff-45c4-baa5-8da027d1f99d",
   "metadata": {
    "tags": []
   },
   "outputs": [
    {
     "name": "stdout",
     "output_type": "stream",
     "text": [
      "(256, 162)\n"
     ]
    }
   ],
   "source": [
    "annotation,pil_im=opp.resize_openpifpaf_annotation_and_pil_img(annotation,pil_im, width=256);\n",
    "print(pil_im.size)"
   ]
  },
  {
   "cell_type": "code",
   "execution_count": 7,
   "id": "0c39ab49-566e-4878-8cdf-46190c61d9b0",
   "metadata": {},
   "outputs": [],
   "source": [
    "fpath=os.path.join(outdir,\"output_file.png\");\n",
    "\n",
    "opp.save_openpifpaf_annotation_in_img(pil_im,annotation,fpath)"
   ]
  }
 ],
 "metadata": {
  "kernelspec": {
   "display_name": "Python 3 (ipykernel)",
   "language": "python",
   "name": "python3"
  },
  "language_info": {
   "codemirror_mode": {
    "name": "ipython",
    "version": 3
   },
   "file_extension": ".py",
   "mimetype": "text/x-python",
   "name": "python",
   "nbconvert_exporter": "python",
   "pygments_lexer": "ipython3",
   "version": "3.9.13"
  }
 },
 "nbformat": 4,
 "nbformat_minor": 5
}
