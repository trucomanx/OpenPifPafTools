{
 "cells": [
  {
   "cell_type": "code",
   "execution_count": 1,
   "id": "6bdecb55-aa47-469e-bf6a-afcc20c9e4e0",
   "metadata": {},
   "outputs": [],
   "source": [
    "import os\n",
    "\n",
    "os.environ['CUDA_VISIBLE_DEVICES'] = '-1' # disable cuda"
   ]
  },
  {
   "cell_type": "code",
   "execution_count": 2,
   "id": "996b37ad-495e-4c94-8978-bcda377d3a58",
   "metadata": {},
   "outputs": [],
   "source": [
    "import sys\n",
    "sys.path.append('../src');\n",
    "\n",
    "filename='../dataset/filename463.jpg'\n",
    "#filename='../dataset/test.jpg'"
   ]
  },
  {
   "cell_type": "code",
   "execution_count": 3,
   "id": "02c118d4-2eac-492a-a1f5-125384c1b6d3",
   "metadata": {},
   "outputs": [],
   "source": [
    "import OpenPifPafTools.OpenPifPafAnnotations as opp\n",
    "import OpenPifPafTools.OpenPifPafGetData as oppgd\n",
    "\n",
    "annotation, pil_im=opp.get_openpifpaf_annotation_from_imgpath(filename)\n"
   ]
  },
  {
   "cell_type": "code",
   "execution_count": 4,
   "id": "dc286fcd-f0a9-4c8f-add5-46cab1e95e30",
   "metadata": {},
   "outputs": [
    {
     "name": "stdout",
     "output_type": "stream",
     "text": [
      "<class 'PIL.Image.Image'>\n",
      "<class 'list'>\n",
      "<class 'openpifpaf.annotation.Annotation'>\n",
      "<class 'numpy.ndarray'>\n",
      " \n",
      "annot.suppress_score_index: True\n",
      "annot.skeleton: [(16, 14), (14, 12), (17, 15), (15, 13), (12, 13), (6, 12), (7, 13), (6, 7), (6, 8), (7, 9), (8, 10), (9, 11), (2, 3), (1, 2), (1, 3), (2, 4), (3, 5), (4, 6), (5, 7)]\n",
      "annot.keypoints: ['nose', 'left_eye', 'right_eye', 'left_ear', 'right_ear', 'left_shoulder', 'right_shoulder', 'left_elbow', 'right_elbow', 'left_wrist', 'right_wrist', 'left_hip', 'right_hip', 'left_knee', 'right_knee', 'left_ankle', 'right_ankle']\n",
      "len 17\n",
      "between_eyes_distance: 12.42884966562089\n",
      "mean_nose_eye_distance 8.601227295010414\n",
      " \n",
      "annot.suppress_score_index: True\n",
      "annot.skeleton: [(16, 14), (14, 12), (17, 15), (15, 13), (12, 13), (6, 12), (7, 13), (6, 7), (6, 8), (7, 9), (8, 10), (9, 11), (2, 3), (1, 2), (1, 3), (2, 4), (3, 5), (4, 6), (5, 7)]\n",
      "annot.keypoints: ['nose', 'left_eye', 'right_eye', 'left_ear', 'right_ear', 'left_shoulder', 'right_shoulder', 'left_elbow', 'right_elbow', 'left_wrist', 'right_wrist', 'left_hip', 'right_hip', 'left_knee', 'right_knee', 'left_ankle', 'right_ankle']\n",
      "len 17\n",
      "between_eyes_distance: 11.295480939747897\n",
      "mean_nose_eye_distance 8.612993317758619\n"
     ]
    }
   ],
   "source": [
    "print(type(pil_im))\n",
    "print(type(annotation))\n",
    "print(type(annotation[0]))\n",
    "print(type(annotation[0].data))\n",
    "\n",
    "for annot in annotation: \n",
    "    print(\" \")\n",
    "    annot.suppress_score_index=True;\n",
    "    print(\"annot.suppress_score_index:\",annot.suppress_score_index)\n",
    "    print(\"annot.skeleton:\",annot.skeleton)\n",
    "    print(\"annot.keypoints:\",annot.keypoints)\n",
    "    print(\"len\",len(annot.keypoints))\n",
    "    print(\"between_eyes_distance:\",oppgd.get_between_eyes_distance(annot.data))\n",
    "    print(\"mean_nose_eye_distance\",oppgd.get_mean_nose_eye_distance(annot.data))\n",
    "    \n"
   ]
  },
  {
   "cell_type": "code",
   "execution_count": 5,
   "id": "eef430c0-cf75-4fdb-b7bf-2d7be489bd49",
   "metadata": {},
   "outputs": [],
   "source": [
    "import os\n",
    "outdir='output';\n",
    "if not os.path.exists(outdir):\n",
    "    os.makedirs(outdir)"
   ]
  },
  {
   "cell_type": "code",
   "execution_count": 6,
   "id": "292f635a-7d8e-418e-8c1c-900211ddce39",
   "metadata": {},
   "outputs": [
    {
     "name": "stdout",
     "output_type": "stream",
     "text": [
      "\n",
      "(106.42378005585148, 3.640861125380656, 147.2190849343829, 50.508747486679894)\n",
      "output/output_file_face0.png\n",
      "\n",
      "(87.50062107086183, 0.0, 160.80302280426025, 151.00046908855438)\n",
      "output/output_file_body0.png\n",
      "\n",
      "(143.29539631784482, 19.742269526520527, 193.9913010698505, 72.69242667098924)\n",
      "output/output_file_face1.png\n",
      "\n",
      "(136.15382461799732, 7.370372843539627, 225.7403524545523, 147.3507248511681)\n",
      "output/output_file_body1.png\n"
     ]
    }
   ],
   "source": [
    "\n",
    "n=0;\n",
    "for annot in annotation: \n",
    "    print('')\n",
    "    tupla=oppgd.get_face_bounding_rectangle(annot.data)\n",
    "    pil_im_crop = pil_im.crop(tupla);\n",
    "    fpath=os.path.join(outdir,\"output_file_face\"+str(n)+\".png\");\n",
    "    pil_im_crop.save(fpath);\n",
    "    print(tupla)\n",
    "    print(fpath)\n",
    "    \n",
    "    print('')\n",
    "    tupla=oppgd.get_body_bounding_rectangle(annot.data,factor=1.2);\n",
    "    pil_im_crop = pil_im.crop(tupla);\n",
    "    fpath=os.path.join(outdir,\"output_file_body\"+str(n)+\".png\");\n",
    "    pil_im_crop.save(fpath);\n",
    "    print(tupla)\n",
    "    print(fpath)\n",
    "\n",
    "    \n",
    "    n=n+1;"
   ]
  },
  {
   "cell_type": "code",
   "execution_count": 7,
   "id": "b8185891-b3ff-45c4-baa5-8da027d1f99d",
   "metadata": {
    "tags": []
   },
   "outputs": [
    {
     "name": "stdout",
     "output_type": "stream",
     "text": [
      "(256, 162)\n"
     ]
    }
   ],
   "source": [
    "annotation,pil_im=opp.resize_openpifpaf_annotation_and_pil_img(annotation,pil_im, width=256);\n",
    "print(pil_im.size)"
   ]
  },
  {
   "cell_type": "code",
   "execution_count": 8,
   "id": "0c39ab49-566e-4878-8cdf-46190c61d9b0",
   "metadata": {},
   "outputs": [],
   "source": [
    "fpath=os.path.join(outdir,\"output_file.png\");\n",
    "\n",
    "opp.save_openpifpaf_annotation_in_img(pil_im,annotation,fpath)"
   ]
  },
  {
   "cell_type": "code",
   "execution_count": 9,
   "id": "bf71d0fd-465d-43ed-a6fd-f98be7050184",
   "metadata": {},
   "outputs": [],
   "source": [
    "import OpenPifPafTools.RoiDetector as opprd\n",
    "\n",
    "det=opprd.Detector(checkpoint='shufflenetv2k16');"
   ]
  },
  {
   "cell_type": "code",
   "execution_count": 10,
   "id": "31f68434-84aa-4244-9c19-3bbad8b6e3a2",
   "metadata": {},
   "outputs": [
    {
     "name": "stdout",
     "output_type": "stream",
     "text": [
      "[[125.92436     31.130264     0.9602357 ]\n",
      " [132.82014     26.001753     0.9987145 ]\n",
      " [120.48786     24.455435     0.95938766]\n",
      " [141.7775      28.707481     0.963772  ]\n",
      " [113.0973      25.079088     0.87108845]\n",
      " [154.69366     59.527946     0.91484636]\n",
      " [ 98.61627     54.289253     0.9340971 ]\n",
      " [153.9618     106.09914      0.8557393 ]\n",
      " [ 93.60833     96.039505     0.95062757]\n",
      " [126.27559    122.58019      0.85561967]\n",
      " [101.75818    121.18975      0.90374035]\n",
      " [140.42918    131.77774      0.85063255]\n",
      " [105.297134   132.07954      0.9294359 ]\n",
      " [123.959785   137.82257      0.7855463 ]\n",
      " [ -4.          -4.           0.        ]\n",
      " [ -4.          -4.           0.        ]\n",
      " [ -4.          -4.           0.        ]]\n",
      "[[165.7284      52.913177     0.9867906 ]\n",
      " [168.71829     43.817535     0.998814  ]\n",
      " [158.91574     49.429832     0.90470475]\n",
      " [181.21097     38.708847     0.9409672 ]\n",
      " [ -4.          -4.           0.        ]\n",
      " [207.38672     70.28643      0.9501606 ]\n",
      " [164.02135     76.43556      0.9227073 ]\n",
      " [197.23677    113.89617      0.7799048 ]\n",
      " [166.40344    116.01859      0.5051367 ]\n",
      " [ -4.          -4.           0.        ]\n",
      " [ -4.          -4.           0.        ]\n",
      " [217.95084    135.8981       0.86345094]\n",
      " [183.36449    136.39256      0.747532  ]\n",
      " [178.81862    134.59128      0.8108233 ]\n",
      " [ -4.          -4.           0.        ]\n",
      " [ -4.          -4.           0.        ]\n",
      " [ -4.          -4.           0.        ]]\n"
     ]
    }
   ],
   "source": [
    "annotation, pil_im=opp.get_openpifpaf_annotation_from_imgpath(filename)\n",
    "\n",
    "skel_vec, body_roi, face_roi = det.process_image(pil_im);"
   ]
  },
  {
   "cell_type": "code",
   "execution_count": 11,
   "id": "ade5e08b-3353-49ab-ac4c-7716dd756a17",
   "metadata": {},
   "outputs": [
    {
     "name": "stdout",
     "output_type": "stream",
     "text": [
      "[165.7284      52.913177     0.9867906  168.71829     43.817535\n",
      "   0.998814   158.91574     49.429832     0.90470475 181.21097\n",
      "  38.708847     0.9409672    0.           0.           0.\n",
      " 207.38672     70.28643      0.9501606  164.02135     76.43556\n",
      "   0.9227073  197.23677    113.89617      0.7799048  166.40344\n",
      " 116.01859      0.5051367    0.           0.           0.\n",
      "   0.           0.           0.         217.95084    135.8981\n",
      "   0.86345094 183.36449    136.39256      0.747532   178.81862\n",
      " 134.59128      0.8108233    0.           0.           0.\n",
      "   0.           0.           0.           0.           0.\n",
      "   0.        ]\n"
     ]
    }
   ],
   "source": [
    "print(skel_vec)"
   ]
  }
 ],
 "metadata": {
  "kernelspec": {
   "display_name": "Python 3 (ipykernel)",
   "language": "python",
   "name": "python3"
  },
  "language_info": {
   "codemirror_mode": {
    "name": "ipython",
    "version": 3
   },
   "file_extension": ".py",
   "mimetype": "text/x-python",
   "name": "python",
   "nbconvert_exporter": "python",
   "pygments_lexer": "ipython3",
   "version": "3.10.12"
  }
 },
 "nbformat": 4,
 "nbformat_minor": 5
}
