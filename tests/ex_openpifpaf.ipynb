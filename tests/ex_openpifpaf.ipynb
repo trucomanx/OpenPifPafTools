{
 "cells": [
  {
   "cell_type": "code",
   "execution_count": 1,
   "id": "97305f05-2880-4c08-bf74-a2b812ef9178",
   "metadata": {},
   "outputs": [],
   "source": [
    "import os\n",
    "#os.environ['TF_GPU_ALLOCATOR'] = 'cuda_malloc_async'\n",
    "#os.environ['CUDA_LAUNCH_BLOCKING'] = '1'; \n",
    "#os.environ[\"PYTORCH_CUDA_ALLOC_CONF\"] = \"max_split_size_mb:20\" \n",
    "os.environ['CUDA_VISIBLE_DEVICES'] = '-1' # disable cuda"
   ]
  },
  {
   "cell_type": "code",
   "execution_count": 2,
   "id": "398568c0-0c34-40dd-901a-fd30b3d49939",
   "metadata": {},
   "outputs": [],
   "source": [
    "import torch\n",
    "torch.cuda.empty_cache()"
   ]
  },
  {
   "cell_type": "code",
   "execution_count": 3,
   "id": "dec4eea6-d3c0-446a-aab3-f8a319dbd319",
   "metadata": {},
   "outputs": [],
   "source": [
    "import openpifpaf\n",
    "import matplotlib.pyplot as plt\n",
    "import cv2\n",
    "from PIL import Image\n",
    "import numpy as np"
   ]
  },
  {
   "cell_type": "code",
   "execution_count": 4,
   "id": "cef7d5c8-4e05-4fa7-9c95-13d7e683c4d2",
   "metadata": {},
   "outputs": [
    {
     "name": "stdout",
     "output_type": "stream",
     "text": [
      "--2024-08-06 15:39:29--  https://github.com/openpifpaf/openpifpaf/raw/main/docs/coco/000000081988.jpg\n",
      "Resolvendo github.com (github.com)... 20.201.28.151\n",
      "Conectando-se a github.com (github.com)|20.201.28.151|:443... conectado.\n",
      "A requisição HTTP foi enviada, aguardando resposta... 302 Found\n",
      "Localização: https://raw.githubusercontent.com/openpifpaf/openpifpaf/main/docs/coco/000000081988.jpg [redirecionando]\n",
      "--2024-08-06 15:39:29--  https://raw.githubusercontent.com/openpifpaf/openpifpaf/main/docs/coco/000000081988.jpg\n",
      "Resolvendo raw.githubusercontent.com (raw.githubusercontent.com)... 185.199.109.133, 185.199.110.133, 185.199.108.133, ...\n",
      "Conectando-se a raw.githubusercontent.com (raw.githubusercontent.com)|185.199.109.133|:443... conectado.\n",
      "A requisição HTTP foi enviada, aguardando resposta... 200 OK\n",
      "Tamanho: 112043 (109K) [image/jpeg]\n",
      "Salvando em: ‘example.jpg’\n",
      "\n",
      "example.jpg         100%[===================>] 109,42K  --.-KB/s    em 0,08s   \n",
      "\n",
      "2024-08-06 15:39:29 (1,34 MB/s) - ‘example.jpg’ salvo [112043/112043]\n",
      "\n"
     ]
    }
   ],
   "source": [
    "# Baixar uma imagem de exemplo (substitua pelo caminho da sua imagem)\n",
    "image_url = 'https://github.com/openpifpaf/openpifpaf/raw/main/docs/coco/000000081988.jpg'\n",
    "image_path = 'example.jpg'\n",
    "!wget -O {image_path} {image_url}\n"
   ]
  },
  {
   "cell_type": "code",
   "execution_count": 10,
   "id": "376a4dfa-5f03-4079-815d-4e23be4bce24",
   "metadata": {},
   "outputs": [],
   "source": [
    "# Carregar a imagem\n",
    "image = Image.open(image_path)"
   ]
  },
  {
   "cell_type": "code",
   "execution_count": 17,
   "id": "762c4db3-8434-46f0-a205-3efa845fcfb4",
   "metadata": {},
   "outputs": [],
   "source": [
    "with openpifpaf.show.image_canvas(np.asarray(image)) as ax:\n",
    "    pass"
   ]
  },
  {
   "cell_type": "code",
   "execution_count": 11,
   "id": "4bfa2780-73a2-4422-b31a-de485b1b5601",
   "metadata": {},
   "outputs": [],
   "source": [
    "# Inicializar o OpenPifPaf\n",
    "predictor = openpifpaf.Predictor(checkpoint='shufflenetv2k16')\n",
    "\n"
   ]
  },
  {
   "cell_type": "code",
   "execution_count": 12,
   "id": "6b3fda61-866d-4a27-af3e-6c68e4a8c334",
   "metadata": {},
   "outputs": [],
   "source": [
    "\n",
    "# Processar a imagem\n",
    "predictions, gt_anns, image_meta  = predictor.pil_image(image)"
   ]
  },
  {
   "cell_type": "code",
   "execution_count": 15,
   "id": "0abf38d4-3b62-4cae-9a25-701325ec3f13",
   "metadata": {},
   "outputs": [
    {
     "data": {
      "text/plain": [
       "array([[ 3.6017877e+02,  2.9964966e+02,  9.9882096e-01],\n",
       "       [ 3.6403537e+02,  2.9479474e+02,  9.5608473e-01],\n",
       "       [ 3.5507379e+02,  2.9503970e+02,  9.7657114e-01],\n",
       "       [ 3.6957544e+02,  2.9712769e+02,  8.2811129e-01],\n",
       "       [ 3.4776544e+02,  2.9803622e+02,  9.4151646e-01],\n",
       "       [ 3.8178815e+02,  3.1739853e+02,  9.3542975e-01],\n",
       "       [ 3.4123145e+02,  3.2181036e+02,  9.5376050e-01],\n",
       "       [ 3.8760934e+02,  3.4162189e+02,  6.1718684e-01],\n",
       "       [ 3.3507935e+02,  3.5091327e+02,  9.6102822e-01],\n",
       "       [ 3.7334406e+02,  3.5688290e+02,  4.3559963e-01],\n",
       "       [ 3.3581897e+02,  3.6386734e+02,  8.9591628e-01],\n",
       "       [ 3.7379721e+02,  3.6283130e+02,  8.5838985e-01],\n",
       "       [ 3.5045963e+02,  3.6485587e+02,  9.5851350e-01],\n",
       "       [ 3.8885754e+02,  3.6172189e+02,  6.5838528e-01],\n",
       "       [ 3.2807568e+02,  3.7470078e+02,  6.8846005e-01],\n",
       "       [ 3.3847418e+02,  3.8157928e+02,  3.4105796e-01],\n",
       "       [ 0.0000000e+00, -3.0000000e+00,  0.0000000e+00]], dtype=float32)"
      ]
     },
     "execution_count": 15,
     "metadata": {},
     "output_type": "execute_result"
    }
   ],
   "source": [
    "predictions[0].data"
   ]
  },
  {
   "cell_type": "code",
   "execution_count": 16,
   "id": "e5949efb-a633-4ea8-8f88-14fe3d9ad029",
   "metadata": {},
   "outputs": [],
   "source": [
    "annotation_painter = openpifpaf.show.AnnotationPainter()\n",
    "with openpifpaf.show.image_canvas(np.asarray(image)) as ax:\n",
    "    annotation_painter.annotations(ax, predictions)"
   ]
  },
  {
   "cell_type": "code",
   "execution_count": null,
   "id": "4068e1a3-0bc9-459c-9255-d28bdbfbf13a",
   "metadata": {},
   "outputs": [],
   "source": []
  }
 ],
 "metadata": {
  "kernelspec": {
   "display_name": "Python 3 (ipykernel)",
   "language": "python",
   "name": "python3"
  },
  "language_info": {
   "codemirror_mode": {
    "name": "ipython",
    "version": 3
   },
   "file_extension": ".py",
   "mimetype": "text/x-python",
   "name": "python",
   "nbconvert_exporter": "python",
   "pygments_lexer": "ipython3",
   "version": "3.10.12"
  }
 },
 "nbformat": 4,
 "nbformat_minor": 5
}
